{
 "cells": [
  {
   "cell_type": "code",
   "execution_count": 1,
   "id": "5a3c53b0",
   "metadata": {},
   "outputs": [],
   "source": [
    "import pandas as pd\n",
    "import numpy as np\n",
    "from sklearn.model_selection import train_test_split\n",
    "from sklearn.neighbors import KNeighborsRegressor\n",
    "from sklearn.preprocessing import StandardScaler, LabelEncoder\n",
    "from sklearn.metrics import mean_squared_error\n",
    "from math import sqrt"
   ]
  },
  {
   "cell_type": "code",
   "execution_count": 2,
   "id": "391c1b01",
   "metadata": {},
   "outputs": [],
   "source": [
    "df = pd.read_csv('spotifydata.csv', encoding='ISO-8859-1')"
   ]
  },
  {
   "cell_type": "code",
   "execution_count": 3,
   "id": "260d8128",
   "metadata": {},
   "outputs": [],
   "source": [
    "df['streams'] = pd.to_numeric(df['streams'], errors='coerce')\n",
    "df['in_spotify_charts'] = pd.to_numeric(df['in_spotify_charts'], errors='coerce')"
   ]
  },
  {
   "cell_type": "code",
   "execution_count": 4,
   "id": "0dc24b1a",
   "metadata": {},
   "outputs": [],
   "source": [
    "df = df.dropna(subset=['streams', 'in_spotify_charts'])"
   ]
  },
  {
   "cell_type": "code",
   "execution_count": 5,
   "id": "9819f917",
   "metadata": {},
   "outputs": [],
   "source": [
    "df['mode'] = df['mode'].astype(str)\n",
    "df['key'] = df['key'].astype(str)"
   ]
  },
  {
   "cell_type": "code",
   "execution_count": 6,
   "id": "30e7d528",
   "metadata": {},
   "outputs": [],
   "source": [
    "label_encoder = LabelEncoder()\n",
    "df['mode'] = label_encoder.fit_transform(df['mode'])\n",
    "df['key'] = label_encoder.fit_transform(df['key'])"
   ]
  },
  {
   "cell_type": "code",
   "execution_count": 7,
   "id": "43a275db",
   "metadata": {},
   "outputs": [],
   "source": [
    "features = ['bpm', 'key', 'mode', 'danceability_%', 'valence_%', 'energy_%', 'acousticness_%', 'instrumentalness_%', 'liveness_%', 'speechiness_%']\n",
    "X = df[features]\n",
    "y_streams = df['streams']\n",
    "y_rank = df['in_spotify_charts']"
   ]
  },
  {
   "cell_type": "code",
   "execution_count": 8,
   "id": "e3f4ab71",
   "metadata": {},
   "outputs": [],
   "source": [
    "X_train, X_test, y_train_streams, y_test_streams = train_test_split(X, y_streams, test_size=0.2, random_state=42)\n",
    "X_train, X_test, y_train_rank, y_test_rank = train_test_split(X, y_rank, test_size=0.2, random_state=42)"
   ]
  },
  {
   "cell_type": "code",
   "execution_count": 9,
   "id": "54fbb139",
   "metadata": {},
   "outputs": [],
   "source": [
    "scaler = StandardScaler()\n",
    "X_train_scaled = scaler.fit_transform(X_train)\n",
    "X_test_scaled = scaler.transform(X_test)"
   ]
  },
  {
   "cell_type": "code",
   "execution_count": 10,
   "id": "c088f28c",
   "metadata": {},
   "outputs": [],
   "source": [
    "knn_streams = KNeighborsRegressor(n_neighbors=5)\n",
    "knn_streams.fit(X_train_scaled, y_train_streams)\n",
    "y_pred_streams = knn_streams.predict(X_test_scaled)"
   ]
  },
  {
   "cell_type": "code",
   "execution_count": 11,
   "id": "005f8836",
   "metadata": {},
   "outputs": [],
   "source": [
    "knn_rank = KNeighborsRegressor(n_neighbors=5)\n",
    "knn_rank.fit(X_train_scaled, y_train_rank)\n",
    "y_pred_rank = knn_rank.predict(X_test_scaled)"
   ]
  },
  {
   "cell_type": "code",
   "execution_count": 12,
   "id": "3e23700e",
   "metadata": {},
   "outputs": [
    {
     "name": "stdout",
     "output_type": "stream",
     "text": [
      "RMSE for Streams: 524115314.16048145\n",
      "RMSE for Rank: 17.035829197306207\n"
     ]
    }
   ],
   "source": [
    "rmse_streams = sqrt(mean_squared_error(y_test_streams, y_pred_streams))\n",
    "rmse_rank = sqrt(mean_squared_error(y_test_rank, y_pred_rank))\n",
    "\n",
    "print(f'RMSE for Streams: {rmse_streams}')\n",
    "print(f'RMSE for Rank: {rmse_rank}')"
   ]
  },
  {
   "cell_type": "code",
   "execution_count": null,
   "id": "1c555918",
   "metadata": {},
   "outputs": [],
   "source": []
  }
 ],
 "metadata": {
  "kernelspec": {
   "display_name": "Python 3 (ipykernel)",
   "language": "python",
   "name": "python3"
  },
  "language_info": {
   "codemirror_mode": {
    "name": "ipython",
    "version": 3
   },
   "file_extension": ".py",
   "mimetype": "text/x-python",
   "name": "python",
   "nbconvert_exporter": "python",
   "pygments_lexer": "ipython3",
   "version": "3.11.7"
  }
 },
 "nbformat": 4,
 "nbformat_minor": 5
}
